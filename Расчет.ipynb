{
 "cells": [
  {
   "cell_type": "code",
   "execution_count": 36,
   "metadata": {},
   "outputs": [],
   "source": [
    "from math import ceil"
   ]
  },
  {
   "cell_type": "markdown",
   "metadata": {},
   "source": [
    "## 1. Функционал и продуктовые метрики"
   ]
  },
  {
   "cell_type": "code",
   "execution_count": 19,
   "metadata": {},
   "outputs": [
    {
     "name": "stdout",
     "output_type": "stream",
     "text": [
      "Количество пользователей: 8.166E+07\n"
     ]
    }
   ],
   "source": [
    "RU_users = 127.6e6\n",
    "users = RU_users*0.64\n",
    "print(\"Количество пользователей: {:.3E}\".format(users))"
   ]
  },
  {
   "cell_type": "code",
   "execution_count": 16,
   "metadata": {},
   "outputs": [
    {
     "name": "stdout",
     "output_type": "stream",
     "text": [
      "MAU: 5.000E+08; DAU: 1.667E+07;\n"
     ]
    }
   ],
   "source": [
    "MAU = 500E6\n",
    "DAU = MAU/30\n",
    "print(\"MAU: {:.3E}; DAU: {:.3E};\".format(MAU, DAU))"
   ]
  },
  {
   "cell_type": "markdown",
   "metadata": {},
   "source": [
    "## 2. Расчет нагрузки"
   ]
  },
  {
   "cell_type": "code",
   "execution_count": 33,
   "metadata": {},
   "outputs": [
    {
     "name": "stdout",
     "output_type": "stream",
     "text": [
      "Пиковое потребление трафика в течении суток: 2236962.1 Гбит/с \n",
      "Суммарный суточный трафик: 699050.7 Гбайт/сутки \n"
     ]
    }
   ],
   "source": [
    "page_size = (2 + 3.5*4)*1024*1024*8 #бит\n",
    "day_traffic = page_size*DAU\n",
    "second_traffic = day_traffic/24*60\n",
    "print(\"Пиковое потребление трафика в течении суток: %1.1F Гбит/с \"%(day_traffic/1e9))\n",
    "print(\"Суммарный суточный трафик: %1.1F Гбайт/сутки \"%(second_traffic/8e9))"
   ]
  },
  {
   "cell_type": "code",
   "execution_count": 41,
   "metadata": {},
   "outputs": [
    {
     "name": "stdout",
     "output_type": "stream",
     "text": [
      "RPS: 34722223 запросов в секунду \n"
     ]
    }
   ],
   "source": [
    "RPS = DAU/24*50\n",
    "print(\"RPS: %1i запросов в секунду \"%(ceil(RPS)))"
   ]
  },
  {
   "cell_type": "code",
   "execution_count": null,
   "metadata": {},
   "outputs": [],
   "source": []
  }
 ],
 "metadata": {
  "kernelspec": {
   "display_name": "Python 3",
   "language": "python",
   "name": "python3"
  },
  "language_info": {
   "codemirror_mode": {
    "name": "ipython",
    "version": 3
   },
   "file_extension": ".py",
   "mimetype": "text/x-python",
   "name": "python",
   "nbconvert_exporter": "python",
   "pygments_lexer": "ipython3",
   "version": "3.8.10"
  }
 },
 "nbformat": 4,
 "nbformat_minor": 2
}
