{
 "cells": [
  {
   "cell_type": "code",
   "execution_count": 1,
   "metadata": {},
   "outputs": [],
   "source": [
    "from math import ceil"
   ]
  },
  {
   "cell_type": "markdown",
   "metadata": {},
   "source": [
    "## 1. Функционал и продуктовые метрики"
   ]
  },
  {
   "cell_type": "code",
   "execution_count": 2,
   "metadata": {},
   "outputs": [
    {
     "name": "stdout",
     "output_type": "stream",
     "text": [
      "Количество пользователей: 8.166E+07\n"
     ]
    }
   ],
   "source": [
    "RU_users = 127.6e6\n",
    "users = RU_users*0.64\n",
    "print(\"Количество пользователей: {:.3E}\".format(users))"
   ]
  },
  {
   "cell_type": "code",
   "execution_count": 3,
   "metadata": {},
   "outputs": [
    {
     "name": "stdout",
     "output_type": "stream",
     "text": [
      "MAU: 4.460E+07; DAU: 1.580E+07;\n"
     ]
    }
   ],
   "source": [
    "MAU = 44.6e6\n",
    "DAU = 15.8e6\n",
    "print(\"MAU: {:.3E}; DAU: {:.3E};\".format(MAU, DAU))"
   ]
  },
  {
   "cell_type": "markdown",
   "metadata": {},
   "source": [
    "## 2. Расчет нагрузки"
   ]
  },
  {
   "cell_type": "code",
   "execution_count": 30,
   "metadata": {},
   "outputs": [
    {
     "name": "stdout",
     "output_type": "stream",
     "text": [
      "Пиковое потребление трафика в течении суток: 34.5 Гбит/с \n",
      "Суммарный суточный трафик: 248512.5 Гбайт/сутки \n"
     ]
    }
   ],
   "source": [
    "page_size = (3*5)*1024*1024*8 #бит\n",
    "day_traffic = page_size*DAU\n",
    "pik_traffic = day_traffic/24/60/60*1.5\n",
    "print(\"Пиковое потребление трафика в течении суток: %1.1F Гбит/с \"%(pik_traffic/1e9))\n",
    "print(\"Суммарный суточный трафик: %1.1F Гбайт/сутки \"%(day_traffic/8e9))"
   ]
  },
  {
   "cell_type": "code",
   "execution_count": 27,
   "metadata": {},
   "outputs": [
    {
     "name": "stdout",
     "output_type": "stream",
     "text": [
      "RPS: 183 запросов в секунду \n"
     ]
    }
   ],
   "source": [
    "RPS = DAU/24/60/60\n",
    "print(\"RPS: %1i запросов в секунду \"%(ceil(RPS)))"
   ]
  },
  {
   "cell_type": "code",
   "execution_count": 26,
   "metadata": {},
   "outputs": [
    {
     "name": "stdout",
     "output_type": "stream",
     "text": [
      "Размер пользовательской истории: 2.000E+08 байт; 190.735 Гбайт;\n"
     ]
    }
   ],
   "source": [
    "userHistory = 1*2000*100000\n",
    "# 'Размер пользовательской истории: %1.1e байт  %1.1e Гб;'%userHistory, (userHistory/(1024*1024))\n",
    "# 'Размер пользовательской истории: %1.1e Гб;'%(userHistory/(1024*1024))\n",
    "print(\"Размер пользовательской истории: {:.3E} байт; {:.3F} Гбайт;\".format(userHistory, (userHistory/(1024*1024))))"
   ]
  },
  {
   "cell_type": "code",
   "execution_count": 31,
   "metadata": {},
   "outputs": [
    {
     "data": {
      "text/plain": [
       "136.71875"
      ]
     },
     "execution_count": 31,
     "metadata": {},
     "output_type": "execute_result"
    }
   ],
   "source": [
    "140e3/1024"
   ]
  },
  {
   "cell_type": "code",
   "execution_count": null,
   "metadata": {},
   "outputs": [],
   "source": []
  }
 ],
 "metadata": {
  "kernelspec": {
   "display_name": "Python 3",
   "language": "python",
   "name": "python3"
  },
  "language_info": {
   "codemirror_mode": {
    "name": "ipython",
    "version": 3
   },
   "file_extension": ".py",
   "mimetype": "text/x-python",
   "name": "python",
   "nbconvert_exporter": "python",
   "pygments_lexer": "ipython3",
   "version": "3.8.10"
  }
 },
 "nbformat": 4,
 "nbformat_minor": 2
}
