{
 "cells": [
  {
   "cell_type": "code",
   "execution_count": 7,
   "metadata": {},
   "outputs": [],
   "source": [
    "from math import ceil"
   ]
  },
  {
   "cell_type": "markdown",
   "metadata": {},
   "source": [
    "## 1. Функционал и продуктовые метрики"
   ]
  },
  {
   "cell_type": "code",
   "execution_count": 8,
   "metadata": {},
   "outputs": [
    {
     "name": "stdout",
     "output_type": "stream",
     "text": [
      "Количество пользователей: 8.166E+07\n"
     ]
    }
   ],
   "source": [
    "RU_users = 127.6e6\n",
    "users = RU_users*0.64\n",
    "print(\"Количество пользователей: {:.3E}\".format(users))"
   ]
  },
  {
   "cell_type": "code",
   "execution_count": 9,
   "metadata": {},
   "outputs": [
    {
     "name": "stdout",
     "output_type": "stream",
     "text": [
      "MAU: 4.460E+07; DAU: 1.580E+07;\n"
     ]
    }
   ],
   "source": [
    "MAU = 44.6e6\n",
    "DAU = 15.8e6\n",
    "MVisitors = 500e6\n",
    "print(\"MAU: {:.3E}; DAU: {:.3E};\".format(MAU, DAU))"
   ]
  },
  {
   "cell_type": "code",
   "execution_count": 2,
   "metadata": {},
   "outputs": [
    {
     "name": "stdout",
     "output_type": "stream",
     "text": [
      "Размер рунета: 7.159549120234604\n"
     ]
    }
   ],
   "source": [
    "RUsize = 5e6*1.5\n",
    "print(f\"Размер рунета: {RUsize/1024/1023}\")"
   ]
  },
  {
   "cell_type": "markdown",
   "metadata": {},
   "source": [
    "## 2. Расчет нагрузки"
   ]
  },
  {
   "cell_type": "code",
   "execution_count": 10,
   "metadata": {},
   "outputs": [
    {
     "name": "stdout",
     "output_type": "stream",
     "text": [
      "Пиковое потребление трафика в течении суток: 6.9 Гбит/с \n",
      "Суммарный суточный трафик: 49702.5 Гбайт/сутки \n"
     ]
    }
   ],
   "source": [
    "page_size = (3)*1024*1024*8 #бит\n",
    "day_traffic = page_size*DAU\n",
    "pik_traffic = day_traffic/24/60/60*1.5\n",
    "print(\"Пиковое потребление трафика в течении суток: %1.1F Гбит/с \"%(pik_traffic/1e9))\n",
    "print(\"Суммарный суточный трафик: %1.1F Гбайт/сутки \"%(day_traffic/8e9))"
   ]
  },
  {
   "cell_type": "code",
   "execution_count": 15,
   "metadata": {},
   "outputs": [
    {
     "name": "stdout",
     "output_type": "stream",
     "text": [
      "RPS на авторизацию: 183 запросов в секунду \n",
      "RPS: 5788 запросов в секунду \n"
     ]
    }
   ],
   "source": [
    "RPS_auth = DAU/24/60/60\n",
    "RPS = MVisitors/24/60/60\n",
    "print(\"RPS на авторизацию: %1i запросов в секунду \"%(ceil(RPS_auth)))\n",
    "print(\"RPS: %1i запросов в секунду \"%(ceil(RPS)))"
   ]
  },
  {
   "cell_type": "code",
   "execution_count": 12,
   "metadata": {},
   "outputs": [
    {
     "name": "stdout",
     "output_type": "stream",
     "text": [
      "Размер пользовательской истории: 2.000E+08 байт; 190.735 Гбайт;\n",
      "Размер пользовательской истории: 1.200E+08 байт; 114.441 Гбайт;\n"
     ]
    }
   ],
   "source": [
    "userHistory = 1*2000*100000\n",
    "compr_userHistory = userHistory*(1 - 0.4)\n",
    "# 'Размер пользовательской истории: %1.1e байт  %1.1e Гб;'%userHistory, (userHistory/(1024*1024))\n",
    "# 'Размер пользовательской истории: %1.1e Гб;'%(userHistory/(1024*1024))\n",
    "print(\"Размер пользовательской истории: {:.3E} байт; {:.3F} Гбайт;\".format(userHistory, (userHistory/(1024*1024))))\n",
    "print(\"Размер пользовательской истории: {:.3E} байт; {:.3F} Гбайт;\".format(compr_userHistory, (compr_userHistory/(1024*1024))))"
   ]
  },
  {
   "cell_type": "code",
   "execution_count": 13,
   "metadata": {},
   "outputs": [
    {
     "data": {
      "text/plain": [
       "136.71875"
      ]
     },
     "execution_count": 13,
     "metadata": {},
     "output_type": "execute_result"
    }
   ],
   "source": [
    "140e3/1024"
   ]
  },
  {
   "cell_type": "code",
   "execution_count": 14,
   "metadata": {},
   "outputs": [
    {
     "data": {
      "text/plain": [
       "33.333333333333336"
      ]
     },
     "execution_count": 14,
     "metadata": {},
     "output_type": "execute_result"
    }
   ],
   "source": [
    "500/(15)"
   ]
  },
  {
   "cell_type": "code",
   "execution_count": null,
   "metadata": {},
   "outputs": [],
   "source": []
  },
  {
   "cell_type": "markdown",
   "metadata": {},
   "source": [
    "Исправления:\n",
    "1. Сократил объем данных из предположения, что история сжимается архиватором.\n",
    "2. Указал, что пренебрегаем трафиком регистрации так, как он в сравнении с поисковым должен быть незначительным.\n",
    "3. Убрал среднее время на сайте. Если понадобиться, добавлю.\n",
    "4. Я пересчитал трафик следующим образом: тогда не учитываем переход пользователя по 5-6 страница. Вроде пользователь заходит на сайт, получает 3 МБи. Остальным трафиком пренебрегаем. Я правильно Вас понял?\n",
    "5. Я ошибся. Такой трафик можно ждать от авторизации. Суммарный RPS для всех запросов будет больше.\n",
    "6. Как я понял из доклада, человека из команды поиска - это индексы + реплика. Про пользовательские данные он не говорил. Я понимаю, что интернет стал больше, но я нашел только исследование Яндекса про размер Рунета за 2009. Но мне кажется этих данных недостаточно для оценки какой-то размера интернета. \n",
    "7. Почему противоречат? 15M * 30 ~ 500M. А MAU в моем понимание - количество УНИКАЛЬНЫХ пользователей В месяц. Как я понимаю пользователей поисковиков - преимущественно пользуются одним и тем же поисковиком (например как я яндексом, в гугл захожу 1-2 раза в месяц, если не в год). Поэтому DAU не сильно отличается от MAU, так как иззо дня в день сервисом пользуются одни и те же люди.\n",
    "8. Добавил датацентров."
   ]
  }
 ],
 "metadata": {
  "kernelspec": {
   "display_name": "Python 3",
   "language": "python",
   "name": "python3"
  },
  "language_info": {
   "codemirror_mode": {
    "name": "ipython",
    "version": 3
   },
   "file_extension": ".py",
   "mimetype": "text/x-python",
   "name": "python",
   "nbconvert_exporter": "python",
   "pygments_lexer": "ipython3",
   "version": "3.8.10"
  }
 },
 "nbformat": 4,
 "nbformat_minor": 2
}
