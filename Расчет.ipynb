{
 "cells": [
  {
   "cell_type": "code",
   "execution_count": 1,
   "metadata": {},
   "outputs": [],
   "source": [
    "from math import ceil"
   ]
  },
  {
   "cell_type": "markdown",
   "metadata": {},
   "source": [
    "## 1. Функционал и продуктовые метрики"
   ]
  },
  {
   "cell_type": "code",
   "execution_count": 2,
   "metadata": {},
   "outputs": [
    {
     "name": "stdout",
     "output_type": "stream",
     "text": [
      "Количество пользователей: 8.166E+07\n"
     ]
    }
   ],
   "source": [
    "RU_users = 127.6e6\n",
    "users = RU_users*0.64\n",
    "print(\"Количество пользователей: {:.3E}\".format(users))"
   ]
  },
  {
   "cell_type": "code",
   "execution_count": 3,
   "metadata": {},
   "outputs": [
    {
     "name": "stdout",
     "output_type": "stream",
     "text": [
      "MAU: 4.460E+07; DAU: 1.580E+07;\n"
     ]
    }
   ],
   "source": [
    "MAU = 44.6e6\n",
    "DAU = 15.8e6\n",
    "MVisitors = 500e6\n",
    "print(\"MAU: {:.3E}; DAU: {:.3E};\".format(MAU, DAU))"
   ]
  },
  {
   "cell_type": "code",
   "execution_count": 4,
   "metadata": {},
   "outputs": [
    {
     "name": "stdout",
     "output_type": "stream",
     "text": [
      "Размер рунета: 7.159549120234604\n"
     ]
    }
   ],
   "source": [
    "RUsize = 5e6*1.5\n",
    "print(f\"Размер рунета: {RUsize/1024/1023}\")"
   ]
  },
  {
   "cell_type": "markdown",
   "metadata": {},
   "source": [
    "## 2. Расчет нагрузки"
   ]
  },
  {
   "cell_type": "code",
   "execution_count": 5,
   "metadata": {},
   "outputs": [
    {
     "name": "stdout",
     "output_type": "stream",
     "text": [
      "Пиковое потребление трафика в течении суток: 0.7 Гбит/с \n",
      "Суммарный суточный трафик: 4970.3 Гбайт/сутки \n"
     ]
    }
   ],
   "source": [
    "page_size = (0.3)*1024*1024*8 #бит\n",
    "day_traffic = page_size*DAU\n",
    "pik_traffic = day_traffic/24/60/60*1.5\n",
    "print(\"Пиковое потребление трафика в течении суток: %1.1F Гбит/с \"%(pik_traffic/1e9))\n",
    "print(\"Суммарный суточный трафик: %1.1F Гбайт/сутки \"%(day_traffic/8e9))"
   ]
  },
  {
   "cell_type": "code",
   "execution_count": 6,
   "metadata": {},
   "outputs": [
    {
     "name": "stdout",
     "output_type": "stream",
     "text": [
      "RPS на авторизацию: 183 запросов в секунду \n",
      "RPS: 5788 запросов в секунду \n"
     ]
    }
   ],
   "source": [
    "RPS_auth = DAU/24/60/60\n",
    "RPS = MVisitors/24/60/60\n",
    "print(\"RPS на авторизацию: %1i запросов в секунду \"%(ceil(RPS_auth)))\n",
    "print(\"RPS: %1i запросов в секунду \"%(ceil(RPS)))"
   ]
  },
  {
   "cell_type": "code",
   "execution_count": null,
   "metadata": {},
   "outputs": [],
   "source": [
    "WWWsize = 50*"
   ]
  },
  {
   "cell_type": "code",
   "execution_count": 7,
   "metadata": {},
   "outputs": [
    {
     "name": "stdout",
     "output_type": "stream",
     "text": [
      "Размер пользовательской истории: 2.000E+08 байт; 190.735 Гбайт;\n",
      "Размер пользовательской истории: 1.200E+08 байт; 114.441 Гбайт;\n"
     ]
    }
   ],
   "source": [
    "userHistory = 1*2000*100000\n",
    "compr_userHistory = userHistory*(1 - 0.4)\n",
    "# 'Размер пользовательской истории: %1.1e байт  %1.1e Гб;'%userHistory, (userHistory/(1024*1024))\n",
    "# 'Размер пользовательской истории: %1.1e Гб;'%(userHistory/(1024*1024))\n",
    "print(\"Размер пользовательской истории: {:.3E} байт; {:.3F} Гбайт;\".format(userHistory, (userHistory/(1024*1024))))\n",
    "print(\"Размер пользовательской истории: {:.3E} байт; {:.3F} Гбайт;\".format(compr_userHistory, (compr_userHistory/(1024*1024))))"
   ]
  },
  {
   "cell_type": "code",
   "execution_count": 8,
   "metadata": {},
   "outputs": [
    {
     "data": {
      "text/plain": [
       "136.71875"
      ]
     },
     "execution_count": 8,
     "metadata": {},
     "output_type": "execute_result"
    }
   ],
   "source": [
    "140e3/1024"
   ]
  },
  {
   "cell_type": "code",
   "execution_count": 9,
   "metadata": {},
   "outputs": [
    {
     "data": {
      "text/plain": [
       "33.333333333333336"
      ]
     },
     "execution_count": 9,
     "metadata": {},
     "output_type": "execute_result"
    }
   ],
   "source": [
    "500/(15)"
   ]
  },
  {
   "cell_type": "code",
   "execution_count": null,
   "metadata": {},
   "outputs": [],
   "source": []
  },
  {
   "cell_type": "markdown",
   "metadata": {},
   "source": [
    "Прикинем количество серверов, если на Intel Xeon Platinum ~ 28 ядер"
   ]
  },
  {
   "cell_type": "code",
   "execution_count": 8,
   "metadata": {},
   "outputs": [
    {
     "data": {
      "text/plain": [
       "(10.714285714285714, 56.00000000000001, 68207.14285714286)"
      ]
     },
     "execution_count": 8,
     "metadata": {},
     "output_type": "execute_result"
    }
   ],
   "source": [
    "N_servers = 1200/(112)\n",
    "N_ram = 600/N_servers \n",
    "Value = 6366*N_servers\n",
    "N_servers, N_ram, Value"
   ]
  },
  {
   "cell_type": "code",
   "execution_count": 9,
   "metadata": {},
   "outputs": [
    {
     "data": {
      "text/plain": [
       "(10.142857142857142, 59.15492957746479, 64569.428571428565)"
      ]
     },
     "execution_count": 9,
     "metadata": {},
     "output_type": "execute_result"
    }
   ],
   "source": [
    "N_servers = 800/(112) + 3\n",
    "N_ram = 600/N_servers \n",
    "Value = 6366*N_servers\n",
    "N_servers, N_ram, Value"
   ]
  },
  {
   "cell_type": "code",
   "execution_count": 10,
   "metadata": {},
   "outputs": [
    {
     "data": {
      "text/plain": [
       "31.25"
      ]
     },
     "execution_count": 10,
     "metadata": {},
     "output_type": "execute_result"
    }
   ],
   "source": [
    "20/64*1000/10"
   ]
  },
  {
   "cell_type": "code",
   "execution_count": 11,
   "metadata": {},
   "outputs": [
    {
     "data": {
      "text/plain": [
       "(35.714285714285715, 56.0, 227357.14285714287)"
      ]
     },
     "execution_count": 11,
     "metadata": {},
     "output_type": "execute_result"
    }
   ],
   "source": [
    "N_servers = 4000/(112) \n",
    "N_ram = 2000/N_servers \n",
    "Value = 6366*N_servers\n",
    "N_servers, N_ram, Value"
   ]
  },
  {
   "cell_type": "code",
   "execution_count": 15,
   "metadata": {},
   "outputs": [
    {
     "data": {
      "text/plain": [
       "(150, 1020000)"
      ]
     },
     "execution_count": 15,
     "metadata": {},
     "output_type": "execute_result"
    }
   ],
   "source": [
    "sum_res = 36*3 + 11 * 3 + 9, (250*3 + 70*3 + 60 )*1000\n",
    "sum_res"
   ]
  },
  {
   "cell_type": "code",
   "execution_count": 16,
   "metadata": {},
   "outputs": [
    {
     "data": {
      "text/plain": [
       "1360000.0"
      ]
     },
     "execution_count": 16,
     "metadata": {},
     "output_type": "execute_result"
    }
   ],
   "source": [
    "sum_res[1]*4/3"
   ]
  },
  {
   "cell_type": "code",
   "execution_count": null,
   "metadata": {},
   "outputs": [],
   "source": []
  }
 ],
 "metadata": {
  "kernelspec": {
   "display_name": "Python 3",
   "language": "python",
   "name": "python3"
  },
  "language_info": {
   "codemirror_mode": {
    "name": "ipython",
    "version": 3
   },
   "file_extension": ".py",
   "mimetype": "text/x-python",
   "name": "python",
   "nbconvert_exporter": "python",
   "pygments_lexer": "ipython3",
   "version": "3.8.10"
  }
 },
 "nbformat": 4,
 "nbformat_minor": 2
}
